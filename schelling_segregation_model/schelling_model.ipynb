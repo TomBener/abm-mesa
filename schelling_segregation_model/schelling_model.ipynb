{
 "metadata": {
  "language_info": {
   "codemirror_mode": {
    "name": "ipython",
    "version": 3
   },
   "file_extension": ".py",
   "mimetype": "text/x-python",
   "name": "python",
   "nbconvert_exporter": "python",
   "pygments_lexer": "ipython3",
   "version": "3.8.5"
  },
  "orig_nbformat": 2,
  "kernelspec": {
   "name": "python3",
   "display_name": "Python 3.8.5 64-bit ('3.8.5': pyenv)",
   "metadata": {
    "interpreter": {
     "hash": "712c20e18035503466fb113dc5f0a1a1609de599a32aba6ecdf9f1e558f975b7"
    }
   }
  }
 },
 "nbformat": 4,
 "nbformat_minor": 2,
 "cells": [
  {
   "cell_type": "code",
   "execution_count": 1,
   "metadata": {},
   "outputs": [],
   "source": [
    "from mesa import Agent, Model\n",
    "from mesa.time import RandomActivation\n",
    "\n",
    "class MoneyAgent(Agent):\n",
    "    \"\"\" An agent with fixed initial wealth.\"\"\"\n",
    "    def __init__(self, unique_id, model):\n",
    "        super().__init__(unique_id, model)\n",
    "        self.wealth = 1\n",
    "\n",
    "    def step(self):\n",
    "        # The agent's step will go here.\n",
    "        # For demonstration purposes we will print the agent's unique_id\n",
    "        print (\"Hi, I am agent \" + str(self.unique_id) +\".\")\n",
    "\n",
    "class MoneyModel(Model):\n",
    "    \"\"\"A model with some number of agents.\"\"\"\n",
    "    def __init__(self, N):\n",
    "        self.num_agents = N\n",
    "        self.schedule = RandomActivation(self)\n",
    "        # Create agents\n",
    "        for i in range(self.num_agents):\n",
    "            a = MoneyAgent(i, self)\n",
    "            self.schedule.add(a)\n",
    "\n",
    "    def step(self):\n",
    "        '''Advance the model by one step.'''\n",
    "        self.schedule.step()"
   ]
  },
  {
   "cell_type": "code",
   "execution_count": 6,
   "metadata": {},
   "outputs": [
    {
     "output_type": "stream",
     "name": "stdout",
     "text": [
      "Hi, I am agent 0.\nHi, I am agent 6.\nHi, I am agent 3.\nHi, I am agent 2.\nHi, I am agent 8.\nHi, I am agent 9.\nHi, I am agent 4.\nHi, I am agent 5.\nHi, I am agent 7.\nHi, I am agent 1.\n"
     ]
    }
   ],
   "source": [
    "empty_model = MoneyModel(10)\n",
    "empty_model.step()"
   ]
  },
  {
   "source": [
    "## Schelling Segregation Model\n",
    "\n",
    "https://towardsdatascience.com/introduction-to-mesa-agent-based-modeling-in-python-bcb0596e1c9a"
   ],
   "cell_type": "markdown",
   "metadata": {}
  },
  {
   "cell_type": "code",
   "execution_count": null,
   "metadata": {},
   "outputs": [],
   "source": [
    "# Create Agent class\n",
    "\n",
    "class SchellingAgent(Agent):\n",
    "\n",
    "    # Initilization\n",
    "    def __init__(self, pos, model, agent_type):\n",
    "        super().__init__(pos, model)\n",
    "        self.pos = pos\n",
    "        self.type = agent_type\n",
    "\n",
    "    # Step function\n",
    "    def step(self):\n",
    "        similar = 0\n",
    "        # Calculate the number of similar neighbors\n",
    "        for neighbor in self.model.grid.neighbor_iter(self.pos):\n",
    "            if neighbor.type == self.type:\n",
    "                similar += 1\n",
    "\n",
    "        # Move to a random empty location if unhappy\n",
    "        if similar < self.model.homophily:\n",
    "            self.model.grid.move_to_empty(self)\n",
    "        else:\n",
    "            self.model.happy += 1"
   ]
  },
  {
   "cell_type": "code",
   "execution_count": null,
   "metadata": {},
   "outputs": [],
   "source": [
    "from mesa.space import SingleGrid\n",
    "from mesa.time import RandomActivation\n",
    "from mesa.datacollection import DataCollector\n",
    "\n",
    "# Create Model Class\n",
    "class Schelling(Model):\n",
    "    def __init__():\n",
    "        self.height = height\n",
    "        self.width = width\n",
    "        self.density = density\n",
    "        self.minority_pc = minority_pc\n",
    "        self.homophily = homophily\n",
    "\n",
    "self.grid = SingleGrid(height, width, torus = True)\n",
    "self.schedule = RandomActivation(self)\n",
    "\n",
    "self.happy = 0\n",
    "self.datacollector = DataCollector(\n",
    "    {'happy': 'happy'},\n",
    "    {'x': lambda a: a.pos[0], 'y': lambda a: a.pos[1]}\n",
    ")\n",
    "\n",
    "for cell in self.grid.coor_iter():\n",
    "    x = cell[1]\n",
    "    y = cell[2]\n",
    "    if self.random.random() < self.density:\n",
    "        if self.random.random < self.minorty_pc:\n",
    "            agent_type = 1\n",
    "        else:\n",
    "            agent_type = 0\n",
    "\n",
    "        agent = SchellingAgent((x, y), self, agent_type)\n",
    "        self.grid.position_agent(agent, (x, y))\n",
    "        self.schedule.add(agent)"
   ]
  },
  {
   "cell_type": "code",
   "execution_count": 1,
   "metadata": {},
   "outputs": [
    {
     "output_type": "execute_result",
     "data": {
      "text/plain": [
       "[1, 2, 3, 4, 5, 6, 7, 8, 9]"
      ]
     },
     "metadata": {},
     "execution_count": 1
    }
   ],
   "source": [
    "# List Comprehensive\n",
    "\n",
    "a = [i for i in range(1, 10)]\n",
    "a"
   ]
  },
  {
   "cell_type": "code",
   "execution_count": 3,
   "metadata": {},
   "outputs": [
    {
     "output_type": "execute_result",
     "data": {
      "text/plain": [
       "[3, 6, 9, 12, 15, 18, 21, 24, 27]"
      ]
     },
     "metadata": {},
     "execution_count": 3
    }
   ],
   "source": [
    "# applying addition element-wise operation \n",
    "b = [i*3 for i in range(1, 10)]\n",
    "b"
   ]
  },
  {
   "cell_type": "code",
   "execution_count": 5,
   "metadata": {},
   "outputs": [
    {
     "output_type": "execute_result",
     "data": {
      "text/plain": [
       "[4, 5, 6, 7, 8, 9]"
      ]
     },
     "metadata": {},
     "execution_count": 5
    }
   ],
   "source": [
    "c = [i for i in range(1, 10) if i > 3]\n",
    "c"
   ]
  },
  {
   "cell_type": "code",
   "execution_count": 6,
   "metadata": {},
   "outputs": [
    {
     "output_type": "stream",
     "name": "stdout",
     "text": [
      "t\nh\ni\ns\n \ni\ns\n \na\n \ns\nt\nr\ni\nn\ng\n,\n \ny\no\nu\n \nk\nn\no\nw\n"
     ]
    }
   ],
   "source": [
    "for i in 'this is a string, you know':\n",
    "    print(i)"
   ]
  },
  {
   "cell_type": "code",
   "execution_count": 7,
   "metadata": {},
   "outputs": [
    {
     "output_type": "execute_result",
     "data": {
      "text/plain": [
       "[7, 6, 3, 0, 2, 3]"
      ]
     },
     "metadata": {},
     "execution_count": 7
    }
   ],
   "source": [
    "# an example of a lsit comprehension statement applying a filter to every character in a string\n",
    "d = [int(i) for i in 'striedv763k!oyei023' if i.isnumeric()]\n",
    "d"
   ]
  },
  {
   "cell_type": "code",
   "execution_count": 8,
   "metadata": {},
   "outputs": [
    {
     "output_type": "execute_result",
     "data": {
      "text/plain": [
       "'12345'"
      ]
     },
     "metadata": {},
     "execution_count": 8
    }
   ],
   "source": [
    "e = \"\".join([i for i in \"string1with2some3numbers4in5it\" if i.isnumeric()])\n",
    "e"
   ]
  },
  {
   "cell_type": "code",
   "execution_count": 3,
   "metadata": {},
   "outputs": [],
   "source": [
    "# creating empty 100 x 100 list using list comprehension in python\n",
    "battlefield = [[i for i in range(0,100)] for i in range(0,100)]"
   ]
  },
  {
   "cell_type": "code",
   "execution_count": 4,
   "metadata": {},
   "outputs": [
    {
     "output_type": "execute_result",
     "data": {
      "text/plain": [
       "('blue', 3)"
      ]
     },
     "metadata": {},
     "execution_count": 4
    }
   ],
   "source": [
    "from collections import Counter\n",
    "colors = ['blue', 'blue', 'blue', 'red', 'red']\n",
    "counter = Counter(colors)\n",
    "counter['yellow'] += 1\n",
    "Counter({'blue': 3, 'red': 2, 'yellow': 1})\n",
    "counter.most_common()[0]"
   ]
  },
  {
   "cell_type": "code",
   "execution_count": null,
   "metadata": {},
   "outputs": [],
   "source": []
  }
 ]
}